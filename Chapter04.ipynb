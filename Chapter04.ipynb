{
  "nbformat": 4,
  "nbformat_minor": 0,
  "metadata": {
    "colab": {
      "provenance": []
    },
    "kernelspec": {
      "name": "python3",
      "display_name": "Python 3"
    },
    "language_info": {
      "name": "python"
    },
    "accelerator": "TPU"
  },
  "cells": [
    {
      "cell_type": "markdown",
      "source": [
        "# **Chapter 04. 신경망 학습**"
      ],
      "metadata": {
        "id": "Y3aiGyMcjdki"
      }
    },
    {
      "cell_type": "code",
      "source": [
        "import numpy as np"
      ],
      "metadata": {
        "id": "Riik_7SqkBpZ"
      },
      "execution_count": 3,
      "outputs": []
    },
    {
      "cell_type": "code",
      "source": [
        "y = [0.1, 0.05, 0.6, 0.0, 0.05, 0.1, 0.0, 0.1, 0.0, 0.0] # y는 소프트맥스 함수의 출력임. (소프트맥스 함수는 확률로 해석 가능, 리스트 내 원소를 확률로 표현)\n",
        "t = [0, 0, 1, 0, 0, 0, 0, 0, 0, 0] # 정답을 가리키는 위치의 원소는 1로, 그 외에는 0으로 표기.\n",
        "\n",
        "# 오차제곱합 함수 구현\n",
        "# 인수 y, t는 넘파이 배열\n",
        "def sum_squares_error(y, t):\n",
        "    return 0.5 * np.sum((y - t)**2)\n",
        "\n",
        "# 예시1 : '2'일 확률이 가장 높다고 추정 (0.6)\n",
        "print(sum_squares_error(np.array(y), np.array(t)))\n",
        "\n",
        "# 예시2 : '7'일 확률이 가장 높다고 추정 (0.6)\n",
        "y = [0.1, 0.05, 0.1, 0.0, 0.05, 0.1, 0.0, 0.6, 0.0, 0.0]\n",
        "print(sum_squares_error(np.array(y), np.array(t)))"
      ],
      "metadata": {
        "colab": {
          "base_uri": "https://localhost:8080/"
        },
        "id": "yhqu81Iejp4I",
        "outputId": "68d862b5-6dc0-43ff-c9fe-0063c4788545"
      },
      "execution_count": 4,
      "outputs": [
        {
          "output_type": "stream",
          "name": "stdout",
          "text": [
            "0.09750000000000003\n",
            "0.5975\n"
          ]
        }
      ]
    },
    {
      "cell_type": "code",
      "source": [
        "# 교차 엔트로피 오차 함수 구현\n",
        "def cross_entropy_error(y, t):\n",
        "    delta = 1e-7\n",
        "    return -np.sum(t * np.log(y + delta))\n",
        "\n",
        "t = [0, 0, 1, 0, 0, 0, 0, 0, 0, 0]\n",
        "y = [0.1, 0.05, 0.6, 0.0, 0.05, 0.1, 0.0, 0.1, 0.0, 0.0]\n",
        "print(cross_entropy_error(np.array(y), np.array(t)))\n",
        "\n",
        "y = [0.1, 0.05, 0.1, 0.0, 0.05, 0.1, 0.0, 0.6, 0.0, 0.0]\n",
        "print(cross_entropy_error(np.array(y), np.array(t)))"
      ],
      "metadata": {
        "colab": {
          "base_uri": "https://localhost:8080/"
        },
        "id": "p7rCHuUYokTu",
        "outputId": "5e17d182-3f31-4323-d2cb-77d9f2dae172"
      },
      "execution_count": 5,
      "outputs": [
        {
          "output_type": "stream",
          "name": "stdout",
          "text": [
            "0.510825457099338\n",
            "2.302584092994546\n"
          ]
        }
      ]
    }
  ]
}