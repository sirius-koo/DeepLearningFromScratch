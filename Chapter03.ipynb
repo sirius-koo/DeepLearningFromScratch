{
  "nbformat": 4,
  "nbformat_minor": 0,
  "metadata": {
    "colab": {
      "provenance": []
    },
    "kernelspec": {
      "name": "python3",
      "display_name": "Python 3"
    },
    "language_info": {
      "name": "python"
    }
  },
  "cells": [
    {
      "cell_type": "markdown",
      "source": [
        "# **Chapter 03. 신경망**"
      ],
      "metadata": {
        "id": "IUfOxBTRF91j"
      }
    },
    {
      "cell_type": "code",
      "source": [
        "# 한글깨짐 해결\n",
        "!sudo apt-get install -y fonts-nanum\n",
        "!sudo fc-cache -fv\n",
        "!rm ~/.cache/matplotlib -rf"
      ],
      "metadata": {
        "id": "HwE29ju9qMrF"
      },
      "execution_count": null,
      "outputs": []
    },
    {
      "cell_type": "code",
      "source": [
        "import numpy as np\n",
        "import matplotlib.pyplot as plt\n",
        "from matplotlib.image import imread\n",
        "plt.rc('font', family='NanumBarunGothic')"
      ],
      "metadata": {
        "id": "Ax893RvvGGVw"
      },
      "execution_count": 1,
      "outputs": []
    },
    {
      "cell_type": "code",
      "source": [
        "# 3.2.2 계단 함수 구현하기\n",
        "def step_function(x):\n",
        "    if x > 0:\n",
        "        return 1\n",
        "    else:\n",
        "        return 0\n"
      ],
      "metadata": {
        "id": "f4KgFv3Jkyxn"
      },
      "execution_count": 3,
      "outputs": []
    },
    {
      "cell_type": "markdown",
      "source": [
        "**3.2.2의 코드의 문제점**  \n",
        "인수 x는 실수(부동소수점)만 입력되고, 넘파이 배열을 인수로 넣을 수 없다."
      ],
      "metadata": {
        "id": "PsAFLcYPlJjL"
      }
    },
    {
      "cell_type": "code",
      "source": [
        "# 3.2.2 수정한 함수\n",
        "def step_function(x):\n",
        "    y = x > 0\n",
        "    return y.astype(np.int) # 넘파이 배열의 자료형 변환"
      ],
      "metadata": {
        "id": "KLr7uyB6luTj"
      },
      "execution_count": 4,
      "outputs": []
    },
    {
      "cell_type": "code",
      "source": [
        "# 수정한 함수 이해하기\n",
        "x = np.array([-1.0, 1.0, 2.0])\n",
        "print(x) # [-1.  1.  2.]\n",
        "y = x > 0\n",
        "print(y) # [False  True  True]"
      ],
      "metadata": {
        "colab": {
          "base_uri": "https://localhost:8080/"
        },
        "id": "qLsJ2mvfmF1n",
        "outputId": "deccee72-6ea7-4255-b85f-8d64a378b32c"
      },
      "execution_count": 5,
      "outputs": [
        {
          "output_type": "stream",
          "name": "stdout",
          "text": [
            "[-1.  1.  2.]\n",
            "[False  True  True]\n"
          ]
        }
      ]
    },
    {
      "cell_type": "markdown",
      "source": [
        "**수정한 함수 이해하기**  \n",
        "넘파이 배열 x에 부등호 연산을 수행하면, 배열의 원소 각각에 부등호 연산을 수행한 bool 배열(y)이 생성된다.  \n",
        "astype() 메소드를 이용해 배열 y의 원소를 bool에서 int형으로 바꿔준다.  \n",
        "True는 1로, False는 0으로 변환된다"
      ],
      "metadata": {
        "id": "OwBchLlanc9I"
      }
    },
    {
      "cell_type": "code",
      "source": [
        "# 3.2.3 계단 함수의 그래프\n",
        "def step_function(x):\n",
        "    return np.array(x > 0, dtype=np.int)\n",
        "\n",
        "x = np.arange(-5.0, 5.0, 0.1)\n",
        "y = step_function(x)\n",
        "plt.plot(x, y)\n",
        "plt.ylim(-0.1, 1.1) # y축의 범위 지정\n",
        "plt.show()"
      ],
      "metadata": {
        "colab": {
          "base_uri": "https://localhost:8080/",
          "height": 545
        },
        "id": "5G8DkL3HmUOU",
        "outputId": "caf17097-35ca-497c-aff0-3d54583dab3c"
      },
      "execution_count": 2,
      "outputs": [
        {
          "output_type": "stream",
          "name": "stderr",
          "text": [
            "<ipython-input-2-79e70185f746>:3: DeprecationWarning: `np.int` is a deprecated alias for the builtin `int`. To silence this warning, use `int` by itself. Doing this will not modify any behavior and is safe. When replacing `np.int`, you may wish to use e.g. `np.int64` or `np.int32` to specify the precision. If you wish to review your current use, check the release note link for additional information.\n",
            "Deprecated in NumPy 1.20; for more details and guidance: https://numpy.org/devdocs/release/1.20.0-notes.html#deprecations\n",
            "  return np.array(x > 0, dtype=np.int)\n",
            "/usr/local/lib/python3.10/dist-packages/IPython/core/pylabtools.py:151: UserWarning: Glyph 8722 (\\N{MINUS SIGN}) missing from current font.\n",
            "  fig.canvas.print_figure(bytes_io, **kw)\n"
          ]
        },
        {
          "output_type": "display_data",
          "data": {
            "text/plain": [
              "<Figure size 640x480 with 1 Axes>"
            ],
            "image/png": "[encoded data removed]"
          },
          "metadata": {}
        }
      ]
    }
  ]
}