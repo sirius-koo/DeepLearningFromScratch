{
  "nbformat": 4,
  "nbformat_minor": 0,
  "metadata": {
    "colab": {
      "provenance": []
    },
    "kernelspec": {
      "name": "python3",
      "display_name": "Python 3"
    },
    "language_info": {
      "name": "python"
    },
    "accelerator": "TPU"
  },
  "cells": [
    {
      "cell_type": "markdown",
      "source": [
        "# **손글씨 숫자 인식**"
      ],
      "metadata": {
        "id": "t62zz1OyTu40"
      }
    },
    {
      "cell_type": "code",
      "source": [
        "!pip3 install datasets"
      ],
      "metadata": {
        "id": "R-8R2VcdI1Fb"
      },
      "execution_count": null,
      "outputs": []
    },
    {
      "cell_type": "code",
      "source": [
        "from google.colab import drive\n",
        "drive.mount('/content/gdrive')"
      ],
      "metadata": {
        "colab": {
          "base_uri": "https://localhost:8080/"
        },
        "id": "lXElMi0xmtoh",
        "outputId": "6151a30f-4e92-4563-a6d4-2e92479ba30a"
      },
      "execution_count": 16,
      "outputs": [
        {
          "output_type": "stream",
          "name": "stdout",
          "text": [
            "Drive already mounted at /content/gdrive; to attempt to forcibly remount, call drive.mount(\"/content/gdrive\", force_remount=True).\n"
          ]
        }
      ]
    },
    {
      "cell_type": "code",
      "source": [
        "import sys, os\n",
        "sys.path.append(\"/content/gdrive/My Drive/Colab Notebooks/DL/deep-learning-from-scratch\")\n",
        "from dataset.mnist import load_mnist\n",
        "\n",
        "(x_train, t_train), (x_test, t_test) = load_mnist(flatten=True, normalize=False)\n",
        "\n",
        "print(x_train.shape)\n",
        "print(t_train.shape)\n",
        "print(x_test.shape)\n",
        "print(t_test.shape)"
      ],
      "metadata": {
        "colab": {
          "base_uri": "https://localhost:8080/"
        },
        "id": "Vk5lszQWkxdG",
        "outputId": "c407d2be-5f41-4aa0-c2f0-a89bceedb8c6"
      },
      "execution_count": 17,
      "outputs": [
        {
          "output_type": "stream",
          "name": "stdout",
          "text": [
            "(60000, 784)\n",
            "(60000,)\n",
            "(10000, 784)\n",
            "(10000,)\n"
          ]
        }
      ]
    },
    {
      "cell_type": "code",
      "source": [
        "# MNIST 이미지 표시하기\n",
        "import sys, os\n",
        "sys.path.append(\"/content/gdrive/My Drive/Colab Notebooks/DL/deep-learning-from-scratch\")\n",
        "from dataset.mnist import load_mnist\n",
        "import numpy as np\n",
        "import cv2\n",
        "from google.colab.patches import cv2_imshow\n",
        "\n",
        "(x_train, t_train), (x_test, t_test) = load_mnist(flatten=True, normalize=False)\n",
        "\n",
        "img = x_train[0]\n",
        "label = t_train[0]\n",
        "print(label)\n",
        "\n",
        "print(img.shape)\n",
        "img = img.reshape(28, 28)\n",
        "print(img.shape)\n",
        "\n",
        "cv2_imshow(img)"
      ],
      "metadata": {
        "colab": {
          "base_uri": "https://localhost:8080/",
          "height": 102
        },
        "id": "LnqRL9ycHUY4",
        "outputId": "3b89cef5-873f-4ac1-8377-1817a269fbe1"
      },
      "execution_count": 18,
      "outputs": [
        {
          "output_type": "stream",
          "name": "stdout",
          "text": [
            "5\n",
            "(784,)\n",
            "(28, 28)\n"
          ]
        },
        {
          "output_type": "display_data",
          "data": {
            "text/plain": [
              "<PIL.Image.Image image mode=L size=28x28>"
            ],
            "image/png": "[encoded data removed]"
          },
          "metadata": {}
        }
      ]
    },
    {
      "cell_type": "markdown",
      "source": [
        "## 신경망의 추론 처리  \n",
        "이 신경망은 입력층 뉴런을 784개, 출력층 뉴런을 10개로 구성한다.  \n",
        "  \n",
        "입력층 뉴런이 784개인 이유는 이미지 크기가 28x28=784이기 때문이고,  \n",
        "출력층 뉴런이 10개인 이유는 이 문제가 0에서 9까지의 숫자를 구분하는 문제이기 때문이다.  \n",
        "  \n",
        "첫 번째 은닉층에는 50개의 뉴런을, 두 번째 은닉층에는 100개의 뉴런을 배치할 것이다.(여기서 50과 100은 임의로 정한 값이다.)  \n",
        "  \n",
        "순서대로 작업을 처리해줄 세 함수는 다음과 같다."
      ],
      "metadata": {
        "id": "ED1t6pwtOC80"
      }
    },
    {
      "cell_type": "code",
      "source": [
        "import sys, os\n",
        "sys.path.append(\"/content/gdrive/My Drive/Colab Notebooks/DL/deep-learning-from-scratch\")  # 부모 디렉터리의 파일을 가져올 수 있도록 설정\n",
        "import numpy as np\n",
        "import pickle\n",
        "from dataset.mnist import load_mnist\n",
        "\n",
        "def sigmoid(x):\n",
        "    return 1 / (1 + np.exp(-x))\n",
        "\n",
        "def softmax(x):\n",
        "    c = np.max(x)\n",
        "    exp_x = np.exp(x - c)\n",
        "    sum_exp_x = np.sum(exp_x)\n",
        "    y = exp_x / sum_exp_x\n",
        "\n",
        "    return y\n",
        "\n",
        "def get_data():\n",
        "    (x_train, t_train), (x_test, t_test) = load_mnist(normalize=True, flatten=True, one_hot_label=False)\n",
        "\n",
        "    return x_test, t_test\n",
        "\n",
        "def init_network():\n",
        "    with open(\"/content/gdrive/My Drive/Colab Notebooks/DL/deep-learning-from-scratch/ch03/sample_weight.pkl\", 'rb') as f:\n",
        "        network = pickle.load(f)\n",
        "\n",
        "    return network\n",
        "\n",
        "def predict(network, x):\n",
        "    W1, W2, W3 = network['W1'], network['W2'], network['W3']\n",
        "    b1, b2, b3 = network['b1'], network['b2'], network['b3']\n",
        "\n",
        "    a1 = np.dot(x, W1) + b1\n",
        "    z1 = sigmoid(a1)\n",
        "    a2 = np.dot(z1, W2) + b2\n",
        "    z2 = sigmoid(a2)\n",
        "    a3 = np.dot(z2, W3) + b3\n",
        "    y = softmax(a3)\n",
        "\n",
        "    return y\n",
        "\n",
        "# 위 함수 get_data(), init_network(), predict() 함수를 사용해 신경망에 의한 추론 수행\n",
        "# 정확도(분류가 얼마나 올바른가) 평가\n",
        "x, t = get_data()\n",
        "network = init_network()\n",
        "accuracy_cnt = 0\n",
        "\n",
        "for i in range(len(x)):\n",
        "    y = predict(network, x[i])\n",
        "    p = np.argmax(y) # 확률이 가장 높은 원소의 인덱스를 얻는다.\n",
        "\n",
        "    if p == t[i]:\n",
        "        accuracy_cnt += 1\n",
        "\n",
        "print(\"Accuracy:\" + str(float(accuracy_cnt) / len(x)))"
      ],
      "metadata": {
        "colab": {
          "base_uri": "https://localhost:8080/"
        },
        "id": "SDhc6FWPOFIQ",
        "outputId": "5506226e-3992-4b1b-c742-b16bc819294a"
      },
      "execution_count": 23,
      "outputs": [
        {
          "output_type": "stream",
          "name": "stdout",
          "text": [
            "Accuracy:0.9352\n"
          ]
        }
      ]
    }
  ]
}